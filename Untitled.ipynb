{
 "cells": [
  {
   "cell_type": "code",
   "execution_count": 1,
   "id": "b1cda1e0",
   "metadata": {},
   "outputs": [
    {
     "name": "stderr",
     "output_type": "stream",
     "text": [
      "Matplotlib is building the font cache; this may take a moment.\n"
     ]
    }
   ],
   "source": [
    "import tensorflow as tf\n",
    "import tensorflow.keras as keras \n",
    "import pandas as pd\n",
    "import numpy as np\n",
    "import matplotlib.pyplot as plt\n",
    "import matplotlib.image as mpimg"
   ]
  },
  {
   "cell_type": "code",
   "execution_count": 3,
   "id": "f9840d4d",
   "metadata": {},
   "outputs": [],
   "source": [
    "imdb_reviews = pd.read_csv('imdb_reviews.csv')\n",
    "test_reviews=pd.read_csv(\"test_reviews.csv\")"
   ]
  },
  {
   "cell_type": "code",
   "execution_count": 4,
   "id": "5a962d84",
   "metadata": {},
   "outputs": [
    {
     "data": {
      "text/html": [
       "<div>\n",
       "<style scoped>\n",
       "    .dataframe tbody tr th:only-of-type {\n",
       "        vertical-align: middle;\n",
       "    }\n",
       "\n",
       "    .dataframe tbody tr th {\n",
       "        vertical-align: top;\n",
       "    }\n",
       "\n",
       "    .dataframe thead th {\n",
       "        text-align: right;\n",
       "    }\n",
       "</style>\n",
       "<table border=\"1\" class=\"dataframe\">\n",
       "  <thead>\n",
       "    <tr style=\"text-align: right;\">\n",
       "      <th></th>\n",
       "      <th>Reviews</th>\n",
       "      <th>Sentiment</th>\n",
       "    </tr>\n",
       "  </thead>\n",
       "  <tbody>\n",
       "    <tr>\n",
       "      <th>0</th>\n",
       "      <td>&lt;START this film was just brilliant casting lo...</td>\n",
       "      <td>positive</td>\n",
       "    </tr>\n",
       "    <tr>\n",
       "      <th>1</th>\n",
       "      <td>&lt;START big hair big boobs bad music and a gian...</td>\n",
       "      <td>negative</td>\n",
       "    </tr>\n",
       "    <tr>\n",
       "      <th>2</th>\n",
       "      <td>&lt;START this has to be one of the worst films o...</td>\n",
       "      <td>negative</td>\n",
       "    </tr>\n",
       "    <tr>\n",
       "      <th>3</th>\n",
       "      <td>&lt;START the &lt;UNK&gt; &lt;UNK&gt; at storytelling the tra...</td>\n",
       "      <td>positive</td>\n",
       "    </tr>\n",
       "    <tr>\n",
       "      <th>4</th>\n",
       "      <td>&lt;START worst mistake of my life br br i picked...</td>\n",
       "      <td>negative</td>\n",
       "    </tr>\n",
       "  </tbody>\n",
       "</table>\n",
       "</div>"
      ],
      "text/plain": [
       "                                             Reviews Sentiment\n",
       "0  <START this film was just brilliant casting lo...  positive\n",
       "1  <START big hair big boobs bad music and a gian...  negative\n",
       "2  <START this has to be one of the worst films o...  negative\n",
       "3  <START the <UNK> <UNK> at storytelling the tra...  positive\n",
       "4  <START worst mistake of my life br br i picked...  negative"
      ]
     },
     "execution_count": 4,
     "metadata": {},
     "output_type": "execute_result"
    }
   ],
   "source": [
    "imdb_reviews.head()"
   ]
  },
  {
   "cell_type": "code",
   "execution_count": 5,
   "id": "77e840d4",
   "metadata": {},
   "outputs": [],
   "source": [
    "word_index=pd.read_csv(\"word_indexes.csv\")"
   ]
  },
  {
   "cell_type": "code",
   "execution_count": 6,
   "id": "cc1c7507",
   "metadata": {},
   "outputs": [
    {
     "data": {
      "text/html": [
       "<div>\n",
       "<style scoped>\n",
       "    .dataframe tbody tr th:only-of-type {\n",
       "        vertical-align: middle;\n",
       "    }\n",
       "\n",
       "    .dataframe tbody tr th {\n",
       "        vertical-align: top;\n",
       "    }\n",
       "\n",
       "    .dataframe thead th {\n",
       "        text-align: right;\n",
       "    }\n",
       "</style>\n",
       "<table border=\"1\" class=\"dataframe\">\n",
       "  <thead>\n",
       "    <tr style=\"text-align: right;\">\n",
       "      <th></th>\n",
       "      <th>Words</th>\n",
       "      <th>Indexes</th>\n",
       "    </tr>\n",
       "  </thead>\n",
       "  <tbody>\n",
       "    <tr>\n",
       "      <th>0</th>\n",
       "      <td>tsukino</td>\n",
       "      <td>52009</td>\n",
       "    </tr>\n",
       "    <tr>\n",
       "      <th>1</th>\n",
       "      <td>nunnery</td>\n",
       "      <td>52010</td>\n",
       "    </tr>\n",
       "    <tr>\n",
       "      <th>2</th>\n",
       "      <td>sonja</td>\n",
       "      <td>16819</td>\n",
       "    </tr>\n",
       "    <tr>\n",
       "      <th>3</th>\n",
       "      <td>vani</td>\n",
       "      <td>63954</td>\n",
       "    </tr>\n",
       "    <tr>\n",
       "      <th>4</th>\n",
       "      <td>woods</td>\n",
       "      <td>1411</td>\n",
       "    </tr>\n",
       "  </tbody>\n",
       "</table>\n",
       "</div>"
      ],
      "text/plain": [
       "     Words  Indexes\n",
       "0  tsukino    52009\n",
       "1  nunnery    52010\n",
       "2    sonja    16819\n",
       "3     vani    63954\n",
       "4    woods     1411"
      ]
     },
     "execution_count": 6,
     "metadata": {},
     "output_type": "execute_result"
    }
   ],
   "source": [
    "word_index.head()"
   ]
  },
  {
   "cell_type": "code",
   "execution_count": 7,
   "id": "b7d2902a",
   "metadata": {},
   "outputs": [],
   "source": [
    "word_index=dict(zip(word_index.Words,word_index.Indexes))"
   ]
  },
  {
   "cell_type": "code",
   "execution_count": 8,
   "id": "0b5a242e",
   "metadata": {},
   "outputs": [],
   "source": [
    "word_index[\"<PAD>\"]=0\n",
    "word_index[\"<START\"]=1\n",
    "word_index[\"<UNK>\"]=2\n",
    "word_index[\"<UNUSED>\"]=3"
   ]
  },
  {
   "cell_type": "code",
   "execution_count": 9,
   "id": "90d8b780",
   "metadata": {},
   "outputs": [],
   "source": [
    "def review_encoder(text):\n",
    "  arr=[word_index[word] for word in text]\n",
    "  return arr"
   ]
  },
  {
   "cell_type": "code",
   "execution_count": 10,
   "id": "3cc95ccb",
   "metadata": {},
   "outputs": [],
   "source": [
    "train_data,train_labels=imdb_reviews['Reviews'],imdb_reviews['Sentiment']\n",
    "test_data, test_labels=test_reviews['Reviews'],test_reviews['Sentiment']"
   ]
  },
  {
   "cell_type": "code",
   "execution_count": 11,
   "id": "87a0f561",
   "metadata": {},
   "outputs": [],
   "source": [
    "train_data=train_data.apply(lambda review:review.split())\n",
    "test_data=test_data.apply(lambda review:review.split())"
   ]
  },
  {
   "cell_type": "code",
   "execution_count": 12,
   "id": "7214c650",
   "metadata": {},
   "outputs": [],
   "source": [
    "train_data=train_data.apply(review_encoder)\n",
    "test_data=test_data.apply(review_encoder)"
   ]
  },
  {
   "cell_type": "code",
   "execution_count": 13,
   "id": "7f6a11f5",
   "metadata": {},
   "outputs": [
    {
     "data": {
      "text/plain": [
       "0    [1, 14, 22, 16, 43, 530, 973, 1622, 1385, 65, ...\n",
       "1    [1, 194, 1153, 194, 8255, 78, 228, 5, 6, 1463,...\n",
       "2    [1, 14, 47, 8, 30, 31, 7, 4, 249, 108, 7, 4, 5...\n",
       "3    [1, 4, 2, 2, 33, 2804, 4, 2040, 432, 111, 153,...\n",
       "4    [1, 249, 1323, 7, 61, 113, 10, 10, 13, 1637, 1...\n",
       "Name: Reviews, dtype: object"
      ]
     },
     "execution_count": 13,
     "metadata": {},
     "output_type": "execute_result"
    }
   ],
   "source": [
    "train_data.head()"
   ]
  },
  {
   "cell_type": "code",
   "execution_count": 14,
   "id": "cefc4475",
   "metadata": {},
   "outputs": [],
   "source": [
    "def encode_sentiments(x):\n",
    "  if x=='positive':\n",
    "    return 1\n",
    "  else:\n",
    "    return 0\n",
    "\n",
    "train_labels=train_labels.apply(encode_sentiments)\n",
    "test_labels=test_labels.apply(encode_sentiments)"
   ]
  },
  {
   "cell_type": "code",
   "execution_count": 15,
   "id": "b363b17d",
   "metadata": {},
   "outputs": [],
   "source": [
    "train_data=keras.preprocessing.sequence.pad_sequences(train_data,value=word_index[\"<PAD>\"],padding='post',maxlen=500)\n",
    "test_data=keras.preprocessing.sequence.pad_sequences(test_data,value=word_index[\"<PAD>\"],padding='post',maxlen=500)"
   ]
  },
  {
   "cell_type": "code",
   "execution_count": 16,
   "id": "9abe6690",
   "metadata": {},
   "outputs": [],
   "source": [
    "model=keras.Sequential([keras.layers.Embedding(10000,16,input_length=500),\n",
    "                        keras.layers.GlobalAveragePooling1D(),\n",
    "                        keras.layers.Dense(16,activation='relu'),\n",
    "                        keras.layers.Dense(1,activation='sigmoid')])"
   ]
  },
  {
   "cell_type": "code",
   "execution_count": 17,
   "id": "c9fca9a6",
   "metadata": {},
   "outputs": [],
   "source": [
    "model.compile(optimizer='adam',loss='binary_crossentropy',metrics=['accuracy'])"
   ]
  },
  {
   "cell_type": "code",
   "execution_count": 18,
   "id": "fe72497a",
   "metadata": {},
   "outputs": [
    {
     "name": "stdout",
     "output_type": "stream",
     "text": [
      "Epoch 1/30\n",
      "49/49 [==============================] - 8s 66ms/step - loss: 0.6917 - accuracy: 0.5729 - val_loss: 0.6893 - val_accuracy: 0.5536\n",
      "Epoch 2/30\n",
      "49/49 [==============================] - 3s 57ms/step - loss: 0.6831 - accuracy: 0.6775 - val_loss: 0.6755 - val_accuracy: 0.6594\n",
      "Epoch 3/30\n",
      "49/49 [==============================] - 3s 57ms/step - loss: 0.6593 - accuracy: 0.7250 - val_loss: 0.6438 - val_accuracy: 0.7473\n",
      "Epoch 4/30\n",
      "49/49 [==============================] - 3s 53ms/step - loss: 0.6147 - accuracy: 0.7871 - val_loss: 0.5945 - val_accuracy: 0.7815\n",
      "Epoch 5/30\n",
      "49/49 [==============================] - 3s 54ms/step - loss: 0.5553 - accuracy: 0.8172 - val_loss: 0.5370 - val_accuracy: 0.8173\n",
      "Epoch 6/30\n",
      "49/49 [==============================] - 3s 53ms/step - loss: 0.4922 - accuracy: 0.8432 - val_loss: 0.4822 - val_accuracy: 0.8343\n",
      "Epoch 7/30\n",
      "49/49 [==============================] - 3s 55ms/step - loss: 0.4350 - accuracy: 0.8620 - val_loss: 0.4349 - val_accuracy: 0.8475\n",
      "Epoch 8/30\n",
      "49/49 [==============================] - 3s 52ms/step - loss: 0.3866 - accuracy: 0.8740 - val_loss: 0.3983 - val_accuracy: 0.8551\n",
      "Epoch 9/30\n",
      "49/49 [==============================] - 3s 55ms/step - loss: 0.3496 - accuracy: 0.8822 - val_loss: 0.3707 - val_accuracy: 0.8637\n",
      "Epoch 10/30\n",
      "49/49 [==============================] - 3s 53ms/step - loss: 0.3204 - accuracy: 0.8917 - val_loss: 0.3507 - val_accuracy: 0.8670\n",
      "Epoch 11/30\n",
      "49/49 [==============================] - 3s 53ms/step - loss: 0.2974 - accuracy: 0.8980 - val_loss: 0.3365 - val_accuracy: 0.8703\n",
      "Epoch 12/30\n",
      "49/49 [==============================] - 3s 54ms/step - loss: 0.2788 - accuracy: 0.9030 - val_loss: 0.3235 - val_accuracy: 0.8752\n",
      "Epoch 13/30\n",
      "49/49 [==============================] - 3s 54ms/step - loss: 0.2625 - accuracy: 0.9098 - val_loss: 0.3155 - val_accuracy: 0.8759\n",
      "Epoch 14/30\n",
      "49/49 [==============================] - 3s 54ms/step - loss: 0.2489 - accuracy: 0.9144 - val_loss: 0.3067 - val_accuracy: 0.8798\n",
      "Epoch 15/30\n",
      "49/49 [==============================] - 3s 54ms/step - loss: 0.2367 - accuracy: 0.9179 - val_loss: 0.3033 - val_accuracy: 0.8794\n",
      "Epoch 16/30\n",
      "49/49 [==============================] - 3s 52ms/step - loss: 0.2259 - accuracy: 0.9223 - val_loss: 0.2973 - val_accuracy: 0.8824\n",
      "Epoch 17/30\n",
      "49/49 [==============================] - 3s 53ms/step - loss: 0.2167 - accuracy: 0.9254 - val_loss: 0.2928 - val_accuracy: 0.8835\n",
      "Epoch 18/30\n",
      "49/49 [==============================] - 3s 63ms/step - loss: 0.2074 - accuracy: 0.9289 - val_loss: 0.2910 - val_accuracy: 0.8853\n",
      "Epoch 19/30\n",
      "49/49 [==============================] - 3s 55ms/step - loss: 0.1996 - accuracy: 0.9318 - val_loss: 0.2882 - val_accuracy: 0.8855\n",
      "Epoch 20/30\n",
      "49/49 [==============================] - 3s 57ms/step - loss: 0.1928 - accuracy: 0.9324 - val_loss: 0.2867 - val_accuracy: 0.8856\n",
      "Epoch 21/30\n",
      "49/49 [==============================] - 3s 64ms/step - loss: 0.1851 - accuracy: 0.9378 - val_loss: 0.2881 - val_accuracy: 0.8856\n",
      "Epoch 22/30\n",
      "49/49 [==============================] - 4s 77ms/step - loss: 0.1792 - accuracy: 0.9397 - val_loss: 0.2854 - val_accuracy: 0.8862\n",
      "Epoch 23/30\n",
      "49/49 [==============================] - 3s 60ms/step - loss: 0.1734 - accuracy: 0.9424 - val_loss: 0.2862 - val_accuracy: 0.8864\n",
      "Epoch 24/30\n",
      "49/49 [==============================] - 3s 56ms/step - loss: 0.1674 - accuracy: 0.9444 - val_loss: 0.2863 - val_accuracy: 0.8862\n",
      "Epoch 25/30\n",
      "49/49 [==============================] - 3s 54ms/step - loss: 0.1620 - accuracy: 0.9465 - val_loss: 0.2899 - val_accuracy: 0.8862\n",
      "Epoch 26/30\n",
      "49/49 [==============================] - 3s 57ms/step - loss: 0.1573 - accuracy: 0.9480 - val_loss: 0.2891 - val_accuracy: 0.8855\n",
      "Epoch 27/30\n",
      "49/49 [==============================] - 3s 65ms/step - loss: 0.1529 - accuracy: 0.9496 - val_loss: 0.2894 - val_accuracy: 0.8863\n",
      "Epoch 28/30\n",
      "49/49 [==============================] - 3s 64ms/step - loss: 0.1487 - accuracy: 0.9507 - val_loss: 0.2924 - val_accuracy: 0.8852\n",
      "Epoch 29/30\n",
      "49/49 [==============================] - 3s 65ms/step - loss: 0.1440 - accuracy: 0.9520 - val_loss: 0.2938 - val_accuracy: 0.8856\n",
      "Epoch 30/30\n",
      "49/49 [==============================] - 3s 66ms/step - loss: 0.1405 - accuracy: 0.9541 - val_loss: 0.2963 - val_accuracy: 0.8847\n"
     ]
    }
   ],
   "source": [
    "history=model.fit(train_data,train_labels,epochs=30,batch_size=512,validation_data=(test_data,test_labels))"
   ]
  },
  {
   "cell_type": "code",
   "execution_count": 19,
   "id": "27b9ef81",
   "metadata": {},
   "outputs": [
    {
     "name": "stdout",
     "output_type": "stream",
     "text": [
      "782/782 [==============================] - 2s 3ms/step - loss: 0.2963 - accuracy: 0.8847\n"
     ]
    }
   ],
   "source": [
    "loss,accuracy=model.evaluate(test_data,test_labels)"
   ]
  },
  {
   "cell_type": "code",
   "execution_count": 20,
   "id": "a633077d",
   "metadata": {},
   "outputs": [
    {
     "name": "stdout",
     "output_type": "stream",
     "text": [
      "Reviews      <START with the obvious exception of fools hor...\n",
      "Sentiment                                             positive\n",
      "Name: 80, dtype: object\n"
     ]
    }
   ],
   "source": [
    "index=np.random.randint(1,1000)\n",
    "user_review=test_reviews.loc[index]\n",
    "print(user_review)"
   ]
  },
  {
   "cell_type": "code",
   "execution_count": 21,
   "id": "0bb3a7f0",
   "metadata": {},
   "outputs": [
    {
     "name": "stdout",
     "output_type": "stream",
     "text": [
      "1/1 [==============================] - 0s 266ms/step\n",
      "positive sentiment\n"
     ]
    }
   ],
   "source": [
    "user_review=test_data[index]\n",
    "user_review=np.array([user_review])\n",
    "if (model.predict(user_review)>0.5).astype(\"int32\"):\n",
    "  print(\"positive sentiment\")\n",
    "else:\n",
    "  print(\"negative sentiment\")"
   ]
  },
  {
   "cell_type": "code",
   "execution_count": 2,
   "id": "6080a50a",
   "metadata": {},
   "outputs": [
    {
     "ename": "NameError",
     "evalue": "name 'history' is not defined",
     "output_type": "error",
     "traceback": [
      "\u001b[1;31m---------------------------------------------------------------------------\u001b[0m",
      "\u001b[1;31mNameError\u001b[0m                                 Traceback (most recent call last)",
      "Input \u001b[1;32mIn [2]\u001b[0m, in \u001b[0;36m<cell line: 1>\u001b[1;34m()\u001b[0m\n\u001b[1;32m----> 1\u001b[0m acc \u001b[38;5;241m=\u001b[39m \u001b[43mhistory\u001b[49m\u001b[38;5;241m.\u001b[39mhistory[\u001b[38;5;124m'\u001b[39m\u001b[38;5;124maccuracy\u001b[39m\u001b[38;5;124m'\u001b[39m]\n",
      "\u001b[1;31mNameError\u001b[0m: name 'history' is not defined"
     ]
    }
   ],
   "source": [
    "acc = history.history['accuracy']"
   ]
  },
  {
   "cell_type": "code",
   "execution_count": 3,
   "id": "fa05027f",
   "metadata": {},
   "outputs": [
    {
     "ename": "NameError",
     "evalue": "name 'history' is not defined",
     "output_type": "error",
     "traceback": [
      "\u001b[1;31m---------------------------------------------------------------------------\u001b[0m",
      "\u001b[1;31mNameError\u001b[0m                                 Traceback (most recent call last)",
      "Input \u001b[1;32mIn [3]\u001b[0m, in \u001b[0;36m<cell line: 1>\u001b[1;34m()\u001b[0m\n\u001b[1;32m----> 1\u001b[0m acc \u001b[38;5;241m=\u001b[39m \u001b[43mhistory\u001b[49m\u001b[38;5;241m.\u001b[39mhistory[\u001b[38;5;124m'\u001b[39m\u001b[38;5;124maccuracy\u001b[39m\u001b[38;5;124m'\u001b[39m]\n\u001b[0;32m      2\u001b[0m val_acc \u001b[38;5;241m=\u001b[39m history\u001b[38;5;241m.\u001b[39mhistory[\u001b[38;5;124m'\u001b[39m\u001b[38;5;124mval_accuracy\u001b[39m\u001b[38;5;124m'\u001b[39m]\n\u001b[0;32m      3\u001b[0m loss \u001b[38;5;241m=\u001b[39m history\u001b[38;5;241m.\u001b[39mhistory[\u001b[38;5;124m'\u001b[39m\u001b[38;5;124mloss\u001b[39m\u001b[38;5;124m'\u001b[39m]\n",
      "\u001b[1;31mNameError\u001b[0m: name 'history' is not defined"
     ]
    }
   ],
   "source": [
    "acc = history.history['accuracy']\n",
    "val_acc = history.history['val_accuracy']\n",
    "loss = history.history['loss']\n",
    "val_loss = history.history['val_loss']"
   ]
  },
  {
   "cell_type": "code",
   "execution_count": null,
   "id": "1368e7dc",
   "metadata": {},
   "outputs": [],
   "source": [
    "epochs=range(len(acc))\n",
    "plt.plot(epochs, acc, 'r', 'Training Accuracy')\n",
    "plt.plot(epochs, val_acc, 'b', 'Validation Accuracy')\n",
    "plt.title('Training and validation accuracy')\n",
    "plt.figure()\n",
    "plt.plot(epochs, loss, 'r', 'Training Loss')\n",
    "plt.plot(epochs, val_loss, 'b', 'Validation Loss')\n",
    "plt.title('Training and validation loss')\n",
    "plt.figure()"
   ]
  },
  {
   "cell_type": "code",
   "execution_count": null,
   "id": "6fe7fcf7",
   "metadata": {},
   "outputs": [],
   "source": []
  }
 ],
 "metadata": {
  "kernelspec": {
   "display_name": "Python 3 (ipykernel)",
   "language": "python",
   "name": "python3"
  },
  "language_info": {
   "codemirror_mode": {
    "name": "ipython",
    "version": 3
   },
   "file_extension": ".py",
   "mimetype": "text/x-python",
   "name": "python",
   "nbconvert_exporter": "python",
   "pygments_lexer": "ipython3",
   "version": "3.9.12"
  }
 },
 "nbformat": 4,
 "nbformat_minor": 5
}
